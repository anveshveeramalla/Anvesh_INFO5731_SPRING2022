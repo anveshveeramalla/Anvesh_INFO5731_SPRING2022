{
  "cells": [
    {
      "cell_type": "markdown",
      "metadata": {
        "id": "view-in-github",
        "colab_type": "text"
      },
      "source": [
        "<a href=\"https://colab.research.google.com/github/anveshveeramalla/Anvesh_INFO5731_SPRING2022/blob/main/In_class_exercise_01_1.ipynb\" target=\"_parent\"><img src=\"https://colab.research.google.com/assets/colab-badge.svg\" alt=\"Open In Colab\"/></a>"
      ]
    },
    {
      "cell_type": "markdown",
      "metadata": {
        "id": "DymRJbxDBCnf"
      },
      "source": [
        "# **The first In-class-exercise (01/25/2022, 40 points in total)**"
      ]
    },
    {
      "cell_type": "markdown",
      "metadata": {
        "id": "03jb4GZsBkBS"
      },
      "source": [
        "(1) Write a Python program to calculate the length of a string. (4 points)"
      ]
    },
    {
      "cell_type": "code",
      "execution_count": 2,
      "metadata": {
        "colab": {
          "base_uri": "https://localhost:8080/"
        },
        "id": "YaGLbSHHB8Ej",
        "outputId": "d3bed258-db15-4508-d320-0219b708464d"
      },
      "outputs": [
        {
          "output_type": "stream",
          "name": "stdout",
          "text": [
            "Length of the string is: 11\n"
          ]
        }
      ],
      "source": [
        "# write your answer here\n",
        "str = \"How are you\"\n",
        "print (\"Length of the string is:\",len(str))"
      ]
    },
    {
      "cell_type": "markdown",
      "metadata": {
        "id": "jJDe71iLB616"
      },
      "source": [
        "(2) Write a Python program to count the number of characters in a string. (4 points)\n",
        "\n",
        "Sample String : 'google.com‘, \n",
        "\n",
        "Expected Result : {'o': 3, 'g': 2, '.': 1, 'e': 1, 'l': 1, 'm': 1, 'c': 1}"
      ]
    },
    {
      "cell_type": "code",
      "execution_count": 14,
      "metadata": {
        "colab": {
          "base_uri": "https://localhost:8080/"
        },
        "id": "MtKskTzbCLaU",
        "outputId": "368526f8-2ee1-46bb-c278-d2fa70f8ea8a"
      },
      "outputs": [
        {
          "output_type": "stream",
          "name": "stdout",
          "text": [
            "Counter({'o': 3, 'g': 2, 'l': 1, 'e': 1, '.': 1, 'c': 1, 'm': 1})\n"
          ]
        }
      ],
      "source": [
        "from collections import Counter\n",
        "str1= \"google.com\"\n",
        "collection =Counter(str1)\n",
        "print(collection)"
      ]
    },
    {
      "cell_type": "markdown",
      "metadata": {
        "id": "55W9AMdXCSpV"
      },
      "source": [
        "(3) Write a Python program to sum all the items in a list. (4 points)"
      ]
    },
    {
      "cell_type": "code",
      "execution_count": 105,
      "metadata": {
        "colab": {
          "base_uri": "https://localhost:8080/"
        },
        "id": "I57NXsauCec2",
        "outputId": "8d3217ca-5806-4890-91c9-8b3765a355cf"
      },
      "outputs": [
        {
          "output_type": "stream",
          "name": "stdout",
          "text": [
            "Sum of all elements in given list is : 281\n"
          ]
        }
      ],
      "source": [
        "# write your answer here\n",
        "t = 0 \n",
        "list1 = [23, 45 ,56 ,67, 34 ,56]\n",
        "for elem in range(0,len(list1)):\n",
        "  t = t + list1[elem]\n",
        "print(\"Sum of all elements in given list is :\",t)"
      ]
    },
    {
      "cell_type": "markdown",
      "metadata": {
        "id": "4ulBZ6yhCi9F"
      },
      "source": [
        "(4) Write a Python program to get a string from a given string where all occurrences of its first char have been changed to '\\$', except the first char itself. (4 points)\n",
        "\n",
        "Sample String : 'restart‘, \n",
        "\n",
        "Expected Result : 'resta\\$t'"
      ]
    },
    {
      "cell_type": "code",
      "execution_count": 22,
      "metadata": {
        "colab": {
          "base_uri": "https://localhost:8080/"
        },
        "id": "Fj0XhwbBCw2o",
        "outputId": "77ce27ef-9f7c-44df-8bca-89855f5fa14c"
      },
      "outputs": [
        {
          "output_type": "stream",
          "name": "stdout",
          "text": [
            "resta$t\n"
          ]
        }
      ],
      "source": [
        "# write your answer here\n",
        "def change_char(str1):\n",
        "  char = str1[0]\n",
        "  str1 = str1. replace(char, '$')\n",
        "  str1 = char + str1[1:]\n",
        "  return str1\n",
        "print(change_char('restart'))"
      ]
    },
    {
      "cell_type": "markdown",
      "metadata": {
        "id": "_bIP7s1MCzue"
      },
      "source": [
        "(5) Write a program with python which could accept two parameter a and b to calculate and output the result of S, where \n",
        "\n",
        "$\\ S=3.14*(1+a/b)^3$ (4 points)\n",
        "\n"
      ]
    },
    {
      "cell_type": "code",
      "execution_count": 60,
      "metadata": {
        "colab": {
          "base_uri": "https://localhost:8080/"
        },
        "id": "w79QilHXD3Mg",
        "outputId": "69dd19e9-fa04-4bde-f80b-9984f68d00f8"
      },
      "outputs": [
        {
          "output_type": "stream",
          "name": "stdout",
          "text": [
            "Enter a Value: 1\n",
            "Enter a Value: 2\n",
            "10.5975\n"
          ]
        }
      ],
      "source": [
        "# write your answer here\n",
        "a = int(input(\"Enter a Value: \"))\n",
        "b = int(input(\"Enter a Value: \"))\n",
        "S = 3.14 * (1+a/b)**3\n",
        "print(S)"
      ]
    },
    {
      "cell_type": "markdown",
      "metadata": {
        "id": "xCa2bK9aD4Q3"
      },
      "source": [
        "(6) Write a Python program to concatenate following dictionaries to create a new one. (4 points)\n",
        "\n",
        "Sample Dictionary : dic1={1:10, 2:20}, dic2={3:30, 4:40}, dic3={5:50,6:60}, \n",
        "\n",
        "Expected Result : {1: 10, 2: 20, 3: 30, 4: 40, 5: 50, 6: 60}\n"
      ]
    },
    {
      "cell_type": "code",
      "execution_count": 24,
      "metadata": {
        "colab": {
          "base_uri": "https://localhost:8080/"
        },
        "id": "_z4aLqAbEET1",
        "outputId": "c982b570-493b-4947-fd46-859f7e08fd25"
      },
      "outputs": [
        {
          "output_type": "stream",
          "name": "stdout",
          "text": [
            "Merged Dictionary {1: 10, 2: 20, 3: 30, 4: 40, 5: 50, 6: 60}\n"
          ]
        }
      ],
      "source": [
        "# write your answer here\n",
        "dic1={1:10, 2:20}\n",
        "dic2={3:30, 4:40}\n",
        "dic3={5:50, 6:60}\n",
        "dic_result = {**dic1, **dic2, **dic3}\n",
        "print(\"Merged Dictionary:\", dic_result)\n"
      ]
    },
    {
      "cell_type": "markdown",
      "metadata": {
        "id": "0v48Vqa7FrQh"
      },
      "source": [
        "(7) Write a Python program to check whether an element exists within a tuple. (4 points)"
      ]
    },
    {
      "cell_type": "code",
      "execution_count": 25,
      "metadata": {
        "colab": {
          "base_uri": "https://localhost:8080/"
        },
        "id": "7WEmgq-DF2P1",
        "outputId": "6efb5c56-2303-4b6f-a6cf-99ac27d7fb59"
      },
      "outputs": [
        {
          "output_type": "stream",
          "name": "stdout",
          "text": [
            "Yes, 'Mango' is in the fruits tuple\n"
          ]
        }
      ],
      "source": [
        "# write your answer here\n",
        "fruit_tuple = (\"Mango\", \"orange\" , \"cherry\")\n",
        "if \"Mango\"  in fruit_tuple:\n",
        "  print(\"Yes, 'Mango' is in the fruits tuple\")\n"
      ]
    },
    {
      "cell_type": "markdown",
      "metadata": {
        "id": "vD5PYLMuGga_"
      },
      "source": [
        "(8) Write a Python program to find maximum and the minimum value in a set. (4 points)"
      ]
    },
    {
      "cell_type": "code",
      "execution_count": 26,
      "metadata": {
        "colab": {
          "base_uri": "https://localhost:8080/"
        },
        "id": "t0D5kdJUGjjw",
        "outputId": "59b9f7d9-b6fe-41cc-e195-b669e0f0a37f"
      },
      "outputs": [
        {
          "output_type": "stream",
          "name": "stdout",
          "text": [
            "Original elements: {1, 34, 67, 3, 4, 78, 15, 56}\n",
            "\n",
            "Maximum Value of the Set is : 78\n",
            "\n",
            "Minimum Value of the Set is : 1\n"
          ]
        }
      ],
      "source": [
        "# write your answer here\n",
        "setno = {15,3,56,67,78,34,4,1}\n",
        "print(\"Original elements:\", setno)\n",
        "print(\"\\nMaximum Value of the Set is :\",max(setno))\n",
        "print(\"\\nMinimum Value of the Set is :\",min(setno))"
      ]
    },
    {
      "cell_type": "markdown",
      "metadata": {
        "id": "uHkd-y5VhVWC"
      },
      "source": [
        "(9) Write a Python program to randomly divide the students in this class into six groups for term projects, each group should have at least 4 students but no more than 6 students (including 6). Here is the students list: (4 points)\n",
        "\n",
        "studnet_list = ['ja0964','sa1198','sb1357','vb0218','sc1229','kg0569','kg0470','sg1297','bg0320','fh0141','jl1252','sk1386',\n",
        "           'ak0956','sk1390','sk1458','sk1313','ak0934','vm0377','nm0618','sm1640','sm1907','gn0108','pr0353','dr0609','ms1500','aos0040','ds0814', 'av0659','nv0234','hy0232']"
      ]
    },
    {
      "cell_type": "code",
      "execution_count": 108,
      "metadata": {
        "colab": {
          "base_uri": "https://localhost:8080/"
        },
        "id": "3iGbmcOBhTwy",
        "outputId": "c57f6238-cdb2-46e6-8e0c-96fb8ff3960a"
      },
      "outputs": [
        {
          "output_type": "execute_result",
          "data": {
            "text/plain": [
              "[['bg0320', 'gn0108', 'ak0934', 'sk1386', 'nv0234'],\n",
              " ['vm0377', 'ak0956', 'kg0470', 'sm1907', 'ja0964'],\n",
              " ['sa1198', 'pr0353', 'ds0814', 'sb1357', 'vb0218'],\n",
              " ['fh0141', 'sk1313', 'sm1640', 'nm0618', 'av0659'],\n",
              " ['aos0040', 'jl1252', 'dr0609', 'sk1390', 'kg0569'],\n",
              " ['sg1297', 'hy0232', 'sk1458', 'ms1500', 'sc1229']]"
            ]
          },
          "metadata": {},
          "execution_count": 108
        }
      ],
      "source": [
        "import random\n",
        "def parts(l, n):\n",
        "   \n",
        "    for i in range(0, len(l), n):\n",
        "        yield l[i:i + n]\n",
        "\n",
        "n = ['ja0964','sa1198','sb1357','vb0218','sc1229','kg0569','kg0470','sg1297','bg0320','fh0141','jl1252','sk1386', 'ak0956','sk1390','sk1458','sk1313','ak0934','vm0377','nm0618','sm1640','sm1907','gn0108','pr0353','dr0609','ms1500','aos0040','ds0814', 'av0659','nv0234','hy0232']\n",
        "\n",
        "\n",
        "\n",
        "random.shuffle(n)\n",
        "\n",
        "list(parts(n, 5))\n"
      ]
    },
    {
      "cell_type": "markdown",
      "metadata": {
        "id": "aGwBMxyXt4Tn"
      },
      "source": [
        "(10) Write a Python program to find the duplicate elements in a given array of integers. Return -1 If there are no such elements. (4 points)"
      ]
    },
    {
      "cell_type": "code",
      "execution_count": 104,
      "metadata": {
        "colab": {
          "base_uri": "https://localhost:8080/"
        },
        "id": "vpT747XQt4To",
        "outputId": "e092ee14-9486-4a76-d678-b6b8d66c4184"
      },
      "outputs": [
        {
          "output_type": "stream",
          "name": "stdout",
          "text": [
            "[-1]\n"
          ]
        }
      ],
      "source": [
        "def Repeat(x):\n",
        "    _size = len(x)\n",
        "    repeated = []\n",
        "    for i in range(_size):\n",
        "        k = i + 1\n",
        "        for j in range(k, _size):\n",
        "            if x[i] == x[j] and x[i] not in repeated:\n",
        "              repeated.append(x[i])\n",
        "    repeated.append(-1)\n",
        "    return repeated\n",
        "    \n",
        "\n",
        "\n",
        "list1 = [1,2,6,3,4]\n",
        "\n",
        "print (Repeat(list1))"
      ]
    },
    {
      "cell_type": "markdown",
      "metadata": {
        "id": "V8kjc6ZUt4To"
      },
      "source": [
        "(11) Write a Python program to select all the Sundays of a specified year. (4 extra points)"
      ]
    },
    {
      "cell_type": "code",
      "execution_count": 109,
      "metadata": {
        "colab": {
          "base_uri": "https://localhost:8080/"
        },
        "id": "GMdwzbrXt4Tp",
        "outputId": "7b2adb78-cab5-4d3f-e142-537d254fdfa3"
      },
      "outputs": [
        {
          "output_type": "stream",
          "name": "stdout",
          "text": [
            "2022-01-02\n",
            "2022-01-09\n",
            "2022-01-16\n",
            "2022-01-23\n",
            "2022-01-30\n",
            "2022-02-06\n",
            "2022-02-13\n",
            "2022-02-20\n",
            "2022-02-27\n",
            "2022-03-06\n",
            "2022-03-13\n",
            "2022-03-20\n",
            "2022-03-27\n",
            "2022-04-03\n",
            "2022-04-10\n",
            "2022-04-17\n",
            "2022-04-24\n",
            "2022-05-01\n",
            "2022-05-08\n",
            "2022-05-15\n",
            "2022-05-22\n",
            "2022-05-29\n",
            "2022-06-05\n",
            "2022-06-12\n",
            "2022-06-19\n",
            "2022-06-26\n",
            "2022-07-03\n",
            "2022-07-10\n",
            "2022-07-17\n",
            "2022-07-24\n",
            "2022-07-31\n",
            "2022-08-07\n",
            "2022-08-14\n",
            "2022-08-21\n",
            "2022-08-28\n",
            "2022-09-04\n",
            "2022-09-11\n",
            "2022-09-18\n",
            "2022-09-25\n",
            "2022-10-02\n",
            "2022-10-09\n",
            "2022-10-16\n",
            "2022-10-23\n",
            "2022-10-30\n",
            "2022-11-06\n",
            "2022-11-13\n",
            "2022-11-20\n",
            "2022-11-27\n",
            "2022-12-04\n",
            "2022-12-11\n",
            "2022-12-18\n",
            "2022-12-25\n"
          ]
        }
      ],
      "source": [
        "# write your answer here\n",
        "from datetime import date,timedelta\n",
        "def all_sundays(year):\n",
        "  dt = date(year,1,1)\n",
        "  dt += timedelta(days=6 - dt.weekday())\n",
        "\n",
        "  while dt.year == year:\n",
        "    yield dt\n",
        "    dt += timedelta(days = 7)\n",
        "for s in all_sundays(2022):\n",
        "  print(s)"
      ]
    }
  ],
  "metadata": {
    "colab": {
      "collapsed_sections": [],
      "name": "In_class_exercise_01-1.ipynb",
      "provenance": [],
      "include_colab_link": true
    },
    "kernelspec": {
      "display_name": "Python 3",
      "language": "python",
      "name": "python3"
    },
    "language_info": {
      "codemirror_mode": {
        "name": "ipython",
        "version": 3
      },
      "file_extension": ".py",
      "mimetype": "text/x-python",
      "name": "python",
      "nbconvert_exporter": "python",
      "pygments_lexer": "ipython3",
      "version": "3.8.5"
    }
  },
  "nbformat": 4,
  "nbformat_minor": 0
}