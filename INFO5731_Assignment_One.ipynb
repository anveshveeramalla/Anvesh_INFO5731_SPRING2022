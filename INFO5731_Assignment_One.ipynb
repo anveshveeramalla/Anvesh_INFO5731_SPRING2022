{
  "cells": [
    {
      "cell_type": "markdown",
      "metadata": {
        "id": "view-in-github",
        "colab_type": "text"
      },
      "source": [
        "<a href=\"https://colab.research.google.com/github/anveshveeramalla/Anvesh_INFO5731_SPRING2022/blob/main/INFO5731_Assignment_One.ipynb\" target=\"_parent\"><img src=\"https://colab.research.google.com/assets/colab-badge.svg\" alt=\"Open In Colab\"/></a>"
      ]
    },
    {
      "cell_type": "markdown",
      "metadata": {
        "id": "Ryk8D1Q4Wsrp"
      },
      "source": [
        "# **INFO5731 Assignment One**"
      ]
    },
    {
      "cell_type": "markdown",
      "metadata": {
        "id": "90_NR8c5XGWc"
      },
      "source": [
        "# Question 1\n",
        "\n",
        "(20 points). Write a Python program to generate 12 random numbers between 1 and 100. Sort the list of numbers in ascending order and print it out. Sort the list of numbers in descending order and print it out. Calculate the average for the group and print it out."
      ]
    },
    {
      "cell_type": "code",
      "execution_count": null,
      "metadata": {
        "colab": {
          "base_uri": "https://localhost:8080/"
        },
        "id": "5QX6bJjGWXY9",
        "outputId": "74d7c0d3-e123-4c9e-a6d2-0c4153e98c4c"
      },
      "outputs": [
        {
          "output_type": "stream",
          "name": "stdout",
          "text": [
            "[57, 31, 59, 78, 62, 26, 31, 32, 8, 65, 31, 44]\n",
            "[8, 26, 31, 31, 31, 32, 44, 57, 59, 62, 65, 78]\n",
            "[78, 65, 62, 59, 57, 44, 32, 31, 31, 31, 26, 8]\n",
            "Average of the list = 43.666666666666664\n"
          ]
        }
      ],
      "source": [
        "# Your code here\n",
        "import random\n",
        "from statistics import mean\n",
        "\n",
        "\n",
        "mylist = []\n",
        "\n",
        "for i in range(0,12):\n",
        "    x = random.randint(1,100)\n",
        "    mylist.append(x)\n",
        "\n",
        "print(mylist)\n",
        "\n",
        "mylist.sort()\n",
        "\n",
        "print(mylist)\n",
        "\n",
        "mylist.sort(reverse=True)\n",
        "\n",
        "print(mylist)\n",
        "\n",
        "def Average(mylist):\n",
        "    return mean(mylist)\n",
        "\n",
        "average = Average(mylist)\n",
        "print(\"Average of the list =\", average)\n",
        "\n",
        "\n",
        "\n",
        "\n"
      ]
    },
    {
      "cell_type": "markdown",
      "metadata": {
        "id": "1F_PZdH9Sh49"
      },
      "source": [
        "# Question 2\n",
        "(25 points). Write a program that will do the following string formatting tasks:\n",
        "\n",
        "(1) Ask the user to enter two sentences.\n",
        "\n",
        "(2) Make each sentence into a list. Each element in the list should correspond to a word in the sentence. For example, if the sentence is \"Alas! Am I alive? This is my first python program\", the program should print out ['Alas, '!', 'Am', 'I', 'alive, '?', 'This', 'is', 'my', 'first', 'python', 'program'].\n",
        "\n",
        "(3) Compare the two sentences. Print out a list of words that occur in both sentences.\n",
        "\n",
        "(4) Remove any punctuation from the sentence and print it back out. It should remove at least the following characters, but it can remove more: period(“.”), comma (“,”), semicolon (“;”), and colon (“:”)\n",
        "\n",
        "(5) Count the number of vowels in the sentences. Print out each vowel and the number of times it appears in the sentences, such as: a:2, e:1, i:0, etc"
      ]
    },
    {
      "cell_type": "code",
      "execution_count": null,
      "metadata": {
        "colab": {
          "base_uri": "https://localhost:8080/"
        },
        "id": "Y0oOSlsOS0cq",
        "outputId": "f8bae07d-8df1-46eb-9f04-76ed4495a034"
      },
      "outputs": [
        {
          "output_type": "stream",
          "name": "stdout",
          "text": [
            "Enter string-1:Hi how are you ?\n",
            "Enter string-2:Hi i am , good\n",
            "['Hi', 'how', 'are', 'you', '?', 'Hi', 'i', 'am', ',', 'good']\n",
            "{'Hi'}\n",
            "HihowareyouHiiamgood\n",
            "{'a': 2, 'e': 1, 'i': 3, 'o': 4, 'u': 1}\n"
          ]
        }
      ],
      "source": [
        "# Your code here\n",
        "\n",
        "string1=input(\"Enter string-1:\")\n",
        "\n",
        "string2=input(\"Enter string-2:\")\n",
        "\n",
        "List1 = string1.split()\n",
        "List2 = string2.split()\n",
        "\n",
        "print(List1 + List2)\n",
        "\n",
        "com_string = List1 +List2\n",
        "common = set(List1).intersection( set(List2) )\n",
        "\n",
        "print(common)\n",
        "\n",
        "# remove punctuation from the string\n",
        "punctuations = '''!()-[]{};:'\"\\,<>./?@#$%^&*_~'''\n",
        "no_punct = \"\"\n",
        "for char in com_string:\n",
        "   if char not in punctuations:\n",
        "       no_punct = no_punct + char\n",
        "\n",
        "# display the unpunctuated string\n",
        "print(no_punct)\n",
        "\n",
        "# string of vowels\n",
        "vowels = 'aeiou'\n",
        "combine_str = string1 + string2\n",
        "# make it suitable for caseless comparisions\n",
        "ip_str = combine_str.casefold()\n",
        "\n",
        "# make a dictionary with each vowel a key and value 0\n",
        "count = {}.fromkeys(vowels,0)\n",
        "\n",
        "# count the vowels\n",
        "for char in ip_str:\n",
        "   if char in count:\n",
        "       count[char] += 1\n",
        "\n",
        "print(count)"
      ]
    },
    {
      "cell_type": "markdown",
      "metadata": {
        "id": "CmFoI4jDS9nx"
      },
      "source": [
        "# Question 3 \n",
        "\n",
        "(15 points). The formula that describes the volume V of a sphere with radius r is the following:\n",
        "\n",
        "$ V=\\frac{4}{3}\\ast\\ \\pi\\ast\\ r^3 $\n",
        "\n",
        "Write a program to calculate the value of V when r is in the range of 1–10. Output the result in the following format:\n",
        "\n",
        "\tr\tV\n",
        "\t1\t…\n",
        "\t2\t…\n",
        "\t3\t…\n"
      ]
    },
    {
      "cell_type": "code",
      "execution_count": null,
      "metadata": {
        "id": "pEyqeioAT95b",
        "colab": {
          "base_uri": "https://localhost:8080/"
        },
        "outputId": "1918e6d7-bb7d-4c3b-bccb-aff02ce038dc"
      },
      "outputs": [
        {
          "output_type": "stream",
          "name": "stdout",
          "text": [
            "r v\n",
            "1 4.19\n",
            "2 33.49\n",
            "3 113.04\n",
            "4 267.95\n",
            "5 523.33\n",
            "6 904.32\n",
            "7 1436.03\n",
            "8 2143.57\n",
            "9 3052.08\n",
            "10 4186.67\n"
          ]
        }
      ],
      "source": [
        "PI = 3.14\n",
        "mylist = []\n",
        "print (\"r\" , \"v\")\n",
        "for i in range(1,11):\n",
        "    radius = i\n",
        "   \n",
        "    sa =  4 * PI * radius * radius\n",
        "    Volume = (4 / 3) * PI * radius * radius * radius\n",
        "    print(radius , \"%.2f\" %Volume)\n",
        "    mylist.append(radius)\n",
        "\n",
        "\n",
        "\n",
        "\n"
      ]
    },
    {
      "cell_type": "code",
      "source": [
        ""
      ],
      "metadata": {
        "id": "V6uqMv9UPDtY"
      },
      "execution_count": null,
      "outputs": []
    },
    {
      "cell_type": "code",
      "execution_count": null,
      "metadata": {
        "id": "pMCr3l8tnu0j"
      },
      "outputs": [],
      "source": [
        ""
      ]
    },
    {
      "cell_type": "markdown",
      "metadata": {
        "id": "z3tBE7E-Xn5X"
      },
      "source": [
        "# Question 4\n",
        "\n",
        "(40 points). In the field of Data Science, data is often formatted as a comma-delimited (CSV) file, where each line in a file corresponds to a field's value. Refer to Chapter 9 (p. 106) for more information on comma-delimited files. To answer this question, you will need to download the file [Assignment1_denton_housing.csv](https://raw.githubusercontent.com/unt-iialab/info5731-spring2022/main/assignments/Assignment1_denton_housing.csv) included with this assignment. The file [Assignment1_denton_housing.csv](https://raw.githubusercontent.com/unt-iialab/info5731-spring2022/main/assignments/Assignment1_denton_housing.csv) contains statistics about housing in the city of Denton from 2008 to 2014. Write a program to implement the following questions.\n",
        "\n",
        "(1) (10 pts) Calculate the difference in the number of Occupied Housing Units from year to year and print it. The difference must be calculated for the consecutive years such as 2008-2009, 2009-2010 etc. Finally, print the values in the ascending order.\n",
        "\n",
        "(2) (10 pts) For all the years, calculate the percentage of housing units which are vacant an occupied. Print the results in the following format:\n",
        "\n",
        "Year Vacant Housing Units Occupied Housing Units\n",
        "\n",
        "    2008  30%   70%                          \n",
        "\t2009 ----- -----\n",
        "\t2010 ----- -----\n",
        "    2011 ----- -----\n",
        "\t2012 ----- -----\n",
        "    2013 ----- -----\n",
        "\t2014 ----- -----\n",
        "  \n",
        "  \n",
        "\n",
        "(3) (10 pts) Calculate and print the valued and years in which the highest number of housing units were vacant and occupied. Print the results in the following format:  \n",
        "\n",
        "                              Year\tValue\n",
        "\tVacant Housing Units\t  -----   -----\n",
        "\tOccupied Housing Units\t-----   -----\n",
        "\n",
        "(4) (10 pts) Calculate the harmonic mean of the total housing units and print it out. You can find the information about harmonic mean here: https://ncalculators.com/statistics/harmonic-mean-calculator.htm"
      ]
    },
    {
      "cell_type": "code",
      "execution_count": 24,
      "metadata": {
        "id": "lqGYuHBhcsRH",
        "colab": {
          "base_uri": "https://localhost:8080/"
        },
        "outputId": "531c454f-9cac-48b1-ebce-168ae6b37abd"
      },
      "outputs": [
        {
          "output_type": "stream",
          "name": "stdout",
          "text": [
            "2014 - 2013 2622\n",
            "2013 - 2012 1565\n",
            "2012 - 2011 1404\n",
            "2011 - 2010 -303\n",
            "2010 - 2009 5091\n",
            "2009 - 2008 -795\n",
            "\n",
            "\n",
            "The difference in Ascending order is: \n",
            "2010 - 2011 303\n",
            "2008 - 2009 795\n",
            "2011 - 2012 1404\n",
            "2012 - 2013 1565\n",
            "2013 - 2014 2622\n",
            "2009 - 2010 5091\n",
            "     Occupied                 Vacant\n",
            "2014 94.26988942963611 % 5.730110570363885 %\n",
            "2013 91.19821249582358 % 8.801787504176412 %\n",
            "2012 93.32239976950866 % 6.677600230491346 %\n",
            "2011 90.6204777701093 % 9.379522229890688 %\n",
            "2010 91.85744366291833 % 8.142556337081672 %\n",
            "2009 90.92888427555128 % 9.07111572444872 %\n",
            "2008 89.11734718648347 % 10.88265281351653 %\n",
            "                       Year Value\n",
            "Occupied Housing Units 2014 46295\n",
            "Vacant Housing Units 2008 4483\n",
            "Harmonic Mean is 44398.28543969185\n"
          ]
        }
      ],
      "source": [
        "import pandas as pd\n",
        "import statistics\n",
        "data=pd.read_csv('https://raw.githubusercontent.com/unt-iialab/info5731-spring2022/main/assignments/Assignment1_denton_housing.csv')\n",
        "vacant_House=[]\n",
        "occupied_House=[]\n",
        "#print(data.loc[[1,2]])\n",
        "for i in data.index :\n",
        "    if data['title_field'][i]==\"Occupied Housing Units\" :\n",
        "        occupied_House.append(data['value'][i])\n",
        "    if data['title_field'][i]==\"Vacant Housing Units\" :\n",
        "        vacant_House.append(data['value'][i])        \n",
        "        \n",
        "        \n",
        "k=2014\n",
        "l=[]\n",
        "for i in range(len(occupied_House)-1) :\n",
        "    print(k-i,'-',k-i-1,occupied_House[i]-occupied_House[i+1])\n",
        "    l.append(abs(occupied_House[i]-occupied_House[i+1]))\n",
        "print(\"\\n\")\n",
        "print(\"The difference in Ascending order is: \")\n",
        "for i in range(len(l)):\n",
        "    m1=l.index(min(l))\n",
        "    print(k-m1-1,'-',k-m1,min(l))\n",
        "    l[m1]=100000\n",
        "print(\"    \", 'Occupied',\"               \",'Vacant' )\n",
        "for i in range(len(occupied_House)) :\n",
        "    h= occupied_House[i] + vacant_House[i]\n",
        "    op= (occupied_House[i]/h) * 100\n",
        "    vp= (vacant_House[i]/h) * 100\n",
        "    \n",
        "    print (k-i,op,'%',vp,\"%\")\n",
        "print(\"                      \",\"Year\",\"Value\")\n",
        "ho=max(occupied_House)\n",
        "hoi=occupied_House.index(ho)\n",
        "print(\"Occupied Housing Units\",k-hoi,ho)\n",
        "hv=max(vacant_House)\n",
        "hvi=vacant_House.index(hv)\n",
        "print(\"Vacant Housing Units\" ,  k-hvi,hv)\n",
        " \n",
        "harmeanlist=[]\n",
        "for i in range(len(occupied_House)) :\n",
        "    harmeanlist.append(occupied_House[i]+vacant_House[i])\n",
        "print('Harmonic Mean is',statistics.harmonic_mean(harmeanlist))"
      ]
    },
    {
      "cell_type": "code",
      "source": [
        ""
      ],
      "metadata": {
        "id": "pdetKKzhSeUR"
      },
      "execution_count": null,
      "outputs": []
    }
  ],
  "metadata": {
    "colab": {
      "collapsed_sections": [
        "Ryk8D1Q4Wsrp"
      ],
      "name": "INFO5731_Assignment_One.ipynb",
      "provenance": [],
      "include_colab_link": true
    },
    "kernelspec": {
      "display_name": "Python 3",
      "language": "python",
      "name": "python3"
    },
    "language_info": {
      "codemirror_mode": {
        "name": "ipython",
        "version": 3
      },
      "file_extension": ".py",
      "mimetype": "text/x-python",
      "name": "python",
      "nbconvert_exporter": "python",
      "pygments_lexer": "ipython3",
      "version": "3.8.5"
    }
  },
  "nbformat": 4,
  "nbformat_minor": 0
}