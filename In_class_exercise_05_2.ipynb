{
  "cells": [
    {
      "cell_type": "markdown",
      "metadata": {
        "id": "view-in-github",
        "colab_type": "text"
      },
      "source": [
        "<a href=\"https://colab.research.google.com/github/anveshveeramalla/Anvesh_INFO5731_SPRING2022/blob/main/In_class_exercise_05_2.ipynb\" target=\"_parent\"><img src=\"https://colab.research.google.com/assets/colab-badge.svg\" alt=\"Open In Colab\"/></a>"
      ]
    },
    {
      "cell_type": "markdown",
      "metadata": {
        "id": "gHm6Bquxfh2f"
      },
      "source": [
        "# **The fifth in-class-exercise (40 points in total, 04/12/2022)**"
      ]
    },
    {
      "cell_type": "markdown",
      "metadata": {
        "id": "xS-cuQ5Vfh2m"
      },
      "source": [
        "(20 points) The purpose of the question is to practice different machine learning algorithms for text classification as well as the performance evaluation. In addition, you are requried to conduct *10 fold cross validation (https://scikit-learn.org/stable/modules/cross_validation.html)* in the training. \n",
        "\n",
        "The dataset can be download from here: https://github.com/unt-iialab/info5731-spring2022/blob/main/assignments/exercise05_datacollection.zip. The dataset contains two files train data and test data for sentiment analysis in IMDB review, it has two categories: 1 represents positive and 0 represents negative. You need to split the training data into training and validate data (80% for training and 20% for validation, https://towardsdatascience.com/train-test-split-and-cross-validation-in-python-80b61beca4b6) and perform 10 fold cross validation while training the classifier. The final trained model was final evaluated on the test data. \n",
        "\n",
        "Algorithms:\n",
        "\n",
        "(1) MultinominalNB\n",
        "\n",
        "(2) SVM \n",
        "\n",
        "(3) KNN \n",
        "\n",
        "(4) Decision tree\n",
        "\n",
        "(5) Random Forest\n",
        "\n",
        "(6) XGBoost\n",
        "\n",
        "Evaluation measurement:\n",
        "\n",
        "(1) Accuracy\n",
        "\n",
        "(2) Recall\n",
        "\n",
        "(3) Precison \n",
        "\n",
        "(4) F-1 score"
      ]
    },
    {
      "cell_type": "code",
      "execution_count": 8,
      "metadata": {
        "id": "ryPGltkLfh2o",
        "colab": {
          "base_uri": "https://localhost:8080/"
        },
        "outputId": "02d40421-ceb6-4678-818b-1213553b1a76"
      },
      "outputs": [
        {
          "output_type": "stream",
          "name": "stdout",
          "text": [
            "[nltk_data] Downloading package stopwords to /root/nltk_data...\n",
            "[nltk_data]   Unzipping corpora/stopwords.zip.\n",
            "[nltk_data] Downloading package stopwords to /root/nltk_data...\n",
            "[nltk_data]   Package stopwords is already up-to-date!\n",
            "[nltk_data] Downloading package wordnet to /root/nltk_data...\n",
            "[nltk_data]   Unzipping corpora/wordnet.zip.\n",
            "(6920, 12360)\n",
            "(1821, 12360)\n"
          ]
        }
      ],
      "source": [
        "# Write your code here\n",
        "# Data Processing\n",
        "import nltk\n",
        "nltk.download('stopwords')\n",
        "import pandas as pd\n",
        "from sklearn.model_selection import train_test_split,cross_val_predict\n",
        "import os\n",
        "from sklearn import tree\n",
        "from sklearn.feature_extraction.text import TfidfVectorizer\n",
        "from sklearn.naive_bayes import MultinomialNB\n",
        "from sklearn.pipeline import make_pipeline\n",
        "from sklearn.neighbors import KNeighborsClassifier\n",
        "from sklearn.ensemble import RandomForestClassifier\n",
        "from xgboost import XGBClassifier\n",
        "%matplotlib inline\n",
        "import numpy as np\n",
        "import matplotlib.pyplot as plt\n",
        "import seaborn as sns; sns.set()\n",
        "from sklearn.metrics import confusion_matrix\n",
        "from sklearn.model_selection import cross_val_score\n",
        "import numpy as np \n",
        "import pandas as pd\n",
        "from sklearn.feature_extraction.text import TfidfVectorizer\n",
        "from sklearn.naive_bayes import MultinomialNB\n",
        "from sklearn import metrics\n",
        "import nltk\n",
        "import re\n",
        "import string\n",
        "from nltk.stem import WordNetLemmatizer\n",
        "import pandas as pd\n",
        "import numpy as np\n",
        "from nltk.tokenize import word_tokenize\n",
        "from nltk import pos_tag\n",
        "from nltk.corpus import stopwords\n",
        "from nltk.stem import WordNetLemmatizer\n",
        "from sklearn.preprocessing import LabelEncoder\n",
        "from collections import defaultdict\n",
        "from nltk.corpus import wordnet as wn\n",
        "from sklearn.feature_extraction.text import TfidfVectorizer\n",
        "from sklearn import model_selection, naive_bayes, svm\n",
        "from sklearn.metrics import accuracy_score\n",
        "\n",
        "# Load the Diabetes dataset\n",
        "os.chdir('/content/sample_data/')\n",
        "#os.chdir('C:\\\\Users\\\\LaptopCheckout\\\\Downloads\\\\INFO_5731\\\\data')\n",
        "train_df = []\n",
        "with open('stsa-train.txt') as f:\n",
        "    train_df = f.readlines()\n",
        "score =[i[0] for i in train_df]\n",
        "review =[i[2:].strip('\\n') for i in train_df]\n",
        "train = {'score':score,'review':review}\n",
        "train= pd.DataFrame(train)\n",
        "\n",
        "test_df = []\n",
        "with open('stsa-test.txt') as f:\n",
        "    test_df = f.readlines()\n",
        "score =[i[0] for i in test_df]\n",
        "review =[i[2:].strip('\\n') for i in test_df]\n",
        "test = {'score':score,'review':review}\n",
        "test= pd.DataFrame(test)\n",
        "\n",
        "#stopword removal and lemmatization\n",
        "stopwords = nltk.corpus.stopwords.words('english')\n",
        "lemmatizer = WordNetLemmatizer()\n",
        "nltk.download('stopwords')\n",
        "nltk.download('wordnet')\n",
        "train_X = []\n",
        "test_X = []\n",
        "#text preprocessing\n",
        "for i in range(0, len(train.review)):\n",
        "    r = re.sub('[^a-zA-Z]', ' ', train.review[i])\n",
        "    r = r.lower()\n",
        "    r = r.split()\n",
        "    r = [lemmatizer.lemmatize(word) for word in r if not word in set(stopwords)]\n",
        "    r = ' '.join(r)\n",
        "    train_X.append(r)\n",
        "for i in range(0, len(test.review)):\n",
        "    r = re.sub('[^a-zA-Z]', ' ', test.review[i])\n",
        "    r = r.lower()\n",
        "    r = r.split()\n",
        "    r = [lemmatizer.lemmatize(word) for word in r if not word in set(stopwords)]\n",
        "    r = ' '.join(r)\n",
        "    test_X.append(r)\n",
        "    \n",
        "tf_idf = TfidfVectorizer()\n",
        "X_train_tf = tf_idf.fit_transform(train_X)\n",
        "X_train_tf = tf_idf.transform(train_X)\n",
        "print(X_train_tf.shape)\n",
        "X_test_tf = tf_idf.transform(test_X)\n",
        "print(X_test_tf.shape)\n",
        "\n",
        "\n"
      ]
    },
    {
      "cell_type": "code",
      "execution_count": 9,
      "metadata": {
        "id": "ogU1DjJPBaKl",
        "colab": {
          "base_uri": "https://localhost:8080/"
        },
        "outputId": "14e50d52-9894-430b-f149-74016e3c4e70"
      },
      "outputs": [
        {
          "output_type": "stream",
          "name": "stdout",
          "text": [
            "No cross-validation\n",
            "              precision    recall  f1-score   support\n",
            "\n",
            "    Positive       0.86      0.72      0.78       912\n",
            "    Negative       0.76      0.88      0.82       909\n",
            "\n",
            "    accuracy                           0.80      1821\n",
            "   macro avg       0.81      0.80      0.80      1821\n",
            "weighted avg       0.81      0.80      0.80      1821\n",
            "\n",
            "Cross-validation\n",
            "              precision    recall  f1-score   support\n",
            "\n",
            "    Positive       0.73      0.70      0.71       912\n",
            "    Negative       0.71      0.74      0.73       909\n",
            "\n",
            "    accuracy                           0.72      1821\n",
            "   macro avg       0.72      0.72      0.72      1821\n",
            "weighted avg       0.72      0.72      0.72      1821\n",
            "\n"
          ]
        }
      ],
      "source": [
        "#MultinominalNB\n",
        "np.random.seed(341)\n",
        "nb_classifier = MultinomialNB()\n",
        "nb_classifier.fit(X_train_tf, train.score)\n",
        "y_pred = nb_classifier.predict(X_test_tf)\n",
        "print( \"No cross-validation\")\n",
        "print(metrics.classification_report(test.score, y_pred,target_names=['Positive', 'Negative']))\n",
        "print( \"Cross-validation\")\n",
        "p=cross_val_predict(nb_classifier, X_test_tf, test.score, cv=10)\n",
        "print(metrics.classification_report(test.score, p,target_names=['Positive', 'Negative']))"
      ]
    },
    {
      "cell_type": "code",
      "source": [
        "#SVM\n",
        "from sklearn import svm\n",
        "np.random.seed(500)\n",
        "clf = svm.SVC(kernel='linear', C=1, random_state=42)\n",
        "clf.fit(X_train_tf, train.score)\n",
        "# predict the labels on validation dataset\n",
        "y_pred = clf.predict(X_test_tf)\n",
        "print( \"No cross-validation\")\n",
        "print(metrics.classification_report(test.score, y_pred,target_names=['Positive', 'Negative']))\n",
        "print( \"Cross-validation\")\n",
        "p = cross_val_predict(clf, X_test_tf, test.score, cv=10)\n",
        "print(metrics.classification_report(test.score, p,target_names=['Positive', 'Negative']))"
      ],
      "metadata": {
        "colab": {
          "base_uri": "https://localhost:8080/"
        },
        "id": "apsoPKLVrfoW",
        "outputId": "c9156cbe-aa1e-415a-8314-357633125957"
      },
      "execution_count": 10,
      "outputs": [
        {
          "output_type": "stream",
          "name": "stdout",
          "text": [
            "No cross-validation\n",
            "              precision    recall  f1-score   support\n",
            "\n",
            "    Positive       0.81      0.77      0.79       912\n",
            "    Negative       0.78      0.82      0.80       909\n",
            "\n",
            "    accuracy                           0.80      1821\n",
            "   macro avg       0.80      0.80      0.80      1821\n",
            "weighted avg       0.80      0.80      0.80      1821\n",
            "\n",
            "Cross-validation\n",
            "              precision    recall  f1-score   support\n",
            "\n",
            "    Positive       0.71      0.72      0.71       912\n",
            "    Negative       0.71      0.71      0.71       909\n",
            "\n",
            "    accuracy                           0.71      1821\n",
            "   macro avg       0.71      0.71      0.71      1821\n",
            "weighted avg       0.71      0.71      0.71      1821\n",
            "\n"
          ]
        }
      ]
    },
    {
      "cell_type": "code",
      "source": [
        "#KNN\n",
        "np.random.seed(271)\n",
        "knn_classifier = KNeighborsClassifier(60)\n",
        "knn_classifier.fit(X_train_tf, train.score)\n",
        "y_pred = knn_classifier.predict(X_test_tf)\n",
        "print( \"No cross-validation\")\n",
        "print(metrics.classification_report(test.score, y_pred,target_names=['Positive', 'Negative']))\n",
        "p=cross_val_predict(knn_classifier, X_test_tf, test.score, cv=10)\n",
        "print( \"Cross-validation\")\n",
        "print(metrics.classification_report(test.score, p,target_names=['Positive', 'Negative']))"
      ],
      "metadata": {
        "colab": {
          "base_uri": "https://localhost:8080/"
        },
        "id": "WGMgBoZ1rqMy",
        "outputId": "a432edc7-6ea4-449a-daf6-a7f66ad23b89"
      },
      "execution_count": 11,
      "outputs": [
        {
          "output_type": "stream",
          "name": "stdout",
          "text": [
            "No cross-validation\n",
            "              precision    recall  f1-score   support\n",
            "\n",
            "    Positive       0.80      0.76      0.78       912\n",
            "    Negative       0.77      0.81      0.79       909\n",
            "\n",
            "    accuracy                           0.79      1821\n",
            "   macro avg       0.79      0.79      0.79      1821\n",
            "weighted avg       0.79      0.79      0.79      1821\n",
            "\n",
            "Cross-validation\n",
            "              precision    recall  f1-score   support\n",
            "\n",
            "    Positive       0.66      0.74      0.70       912\n",
            "    Negative       0.70      0.62      0.66       909\n",
            "\n",
            "    accuracy                           0.68      1821\n",
            "   macro avg       0.68      0.68      0.68      1821\n",
            "weighted avg       0.68      0.68      0.68      1821\n",
            "\n"
          ]
        }
      ]
    },
    {
      "cell_type": "code",
      "source": [
        "#Decision Tree\n",
        "from sklearn import tree\n",
        "dt_classifier = tree.DecisionTreeClassifier(random_state=23)\n",
        "dt_classifier.fit(X_train_tf, train.score)\n",
        "y_pred = dt_classifier.predict(X_test_tf)\n",
        "print( \"No cross-validation\")\n",
        "print(metrics.classification_report(test.score, y_pred,target_names=['Positive', 'Negative']))\n",
        "p=cross_val_predict(dt_classifier, X_test_tf, test.score, cv=10)\n",
        "print( \"Cross-validation\")\n",
        "print(metrics.classification_report(test.score, p,target_names=['Positive', 'Negative']))"
      ],
      "metadata": {
        "colab": {
          "base_uri": "https://localhost:8080/"
        },
        "id": "Pc8QPdE0rv9n",
        "outputId": "70973cb9-4602-492e-e343-77fd8b3b3ed7"
      },
      "execution_count": 12,
      "outputs": [
        {
          "output_type": "stream",
          "name": "stdout",
          "text": [
            "No cross-validation\n",
            "              precision    recall  f1-score   support\n",
            "\n",
            "    Positive       0.66      0.68      0.67       912\n",
            "    Negative       0.67      0.65      0.66       909\n",
            "\n",
            "    accuracy                           0.66      1821\n",
            "   macro avg       0.66      0.66      0.66      1821\n",
            "weighted avg       0.66      0.66      0.66      1821\n",
            "\n",
            "Cross-validation\n",
            "              precision    recall  f1-score   support\n",
            "\n",
            "    Positive       0.61      0.69      0.64       912\n",
            "    Negative       0.64      0.56      0.59       909\n",
            "\n",
            "    accuracy                           0.62      1821\n",
            "   macro avg       0.62      0.62      0.62      1821\n",
            "weighted avg       0.62      0.62      0.62      1821\n",
            "\n"
          ]
        }
      ]
    },
    {
      "cell_type": "code",
      "source": [
        "#Random Forest\n",
        "from sklearn.ensemble import RandomForestClassifier\n",
        "rf_classifier = RandomForestClassifier()\n",
        "rf_classifier.fit(X_train_tf, train.score)\n",
        "y_pred = rf_classifier.predict(X_test_tf)\n",
        "print( \"No cross-validation\")\n",
        "print(metrics.classification_report(test.score, y_pred,target_names=['Positive', 'Negative']))\n",
        "p=cross_val_predict(rf_classifier, X_test_tf, test.score, cv=10)\n",
        "print( \"Cross-validation\")\n",
        "print(metrics.classification_report(test.score, p,target_names=['Positive', 'Negative']))"
      ],
      "metadata": {
        "colab": {
          "base_uri": "https://localhost:8080/"
        },
        "id": "rGMBNGv1r4Vq",
        "outputId": "888de167-8483-4cb7-dc04-978e1ac28d33"
      },
      "execution_count": 13,
      "outputs": [
        {
          "output_type": "stream",
          "name": "stdout",
          "text": [
            "No cross-validation\n",
            "              precision    recall  f1-score   support\n",
            "\n",
            "    Positive       0.74      0.76      0.75       912\n",
            "    Negative       0.76      0.74      0.75       909\n",
            "\n",
            "    accuracy                           0.75      1821\n",
            "   macro avg       0.75      0.75      0.75      1821\n",
            "weighted avg       0.75      0.75      0.75      1821\n",
            "\n",
            "Cross-validation\n",
            "              precision    recall  f1-score   support\n",
            "\n",
            "    Positive       0.62      0.82      0.71       912\n",
            "    Negative       0.74      0.50      0.59       909\n",
            "\n",
            "    accuracy                           0.66      1821\n",
            "   macro avg       0.68      0.66      0.65      1821\n",
            "weighted avg       0.68      0.66      0.65      1821\n",
            "\n"
          ]
        }
      ]
    },
    {
      "cell_type": "code",
      "source": [
        "#XGBoost\n",
        "from xgboost import XGBClassifier\n",
        "xg_classifier = RandomForestClassifier()\n",
        "xg_classifier.fit(X_train_tf, train.score)\n",
        "y_pred = xg_classifier.predict(X_test_tf)\n",
        "print( \"No cross-validation\")\n",
        "print(metrics.classification_report(test.score, y_pred,target_names=['Positive', 'Negative']))\n",
        "p=cross_val_predict(xg_classifier, X_test_tf, test.score, cv=10)\n",
        "print( \"Cross-validation\")\n",
        "print(metrics.classification_report(test.score, p,target_names=['Positive', 'Negative']))"
      ],
      "metadata": {
        "colab": {
          "base_uri": "https://localhost:8080/"
        },
        "id": "9q4xx633sG5B",
        "outputId": "5c3176b3-4224-4685-b52a-67d9557f2b98"
      },
      "execution_count": 14,
      "outputs": [
        {
          "output_type": "stream",
          "name": "stdout",
          "text": [
            "No cross-validation\n",
            "              precision    recall  f1-score   support\n",
            "\n",
            "    Positive       0.74      0.76      0.75       912\n",
            "    Negative       0.75      0.73      0.74       909\n",
            "\n",
            "    accuracy                           0.75      1821\n",
            "   macro avg       0.75      0.75      0.75      1821\n",
            "weighted avg       0.75      0.75      0.75      1821\n",
            "\n",
            "Cross-validation\n",
            "              precision    recall  f1-score   support\n",
            "\n",
            "    Positive       0.61      0.82      0.70       912\n",
            "    Negative       0.73      0.48      0.58       909\n",
            "\n",
            "    accuracy                           0.65      1821\n",
            "   macro avg       0.67      0.65      0.64      1821\n",
            "weighted avg       0.67      0.65      0.64      1821\n",
            "\n"
          ]
        }
      ]
    },
    {
      "cell_type": "markdown",
      "metadata": {
        "id": "p7gdORbnfh2r"
      },
      "source": [
        "(20 points) The purpose of the question is to practice different machine learning algorithms for text clustering\n",
        "Please downlad the dataset by using the following link.  https://www.kaggle.com/PromptCloudHQ/amazon-reviews-unlocked-mobile-phones\n",
        "(You can also use different text data which you want)\n",
        "\n",
        "Apply the listed clustering methods to the dataset:\n",
        "\n",
        "K means, \n",
        "DBSCAN,\n",
        "Hierarchical clustering. \n",
        "\n",
        "You can refer to of the codes from  the follwing link below. \n",
        "https://www.kaggle.com/karthik3890/text-clustering "
      ]
    },
    {
      "cell_type": "code",
      "source": [
        "#Write your code here.\n",
        "import pandas as pd\n",
        "import nltk\n",
        "from nltk.corpus import stopwords\n",
        "from nltk.stem import PorterStemmer\n",
        "import re\n",
        "\n",
        "nltk.download('stopwords')\n",
        "sno = nltk.stem.SnowballStemmer('english')\n",
        "stemmer = PorterStemmer()\n",
        "nltk.download('punkt')\n",
        "\n",
        "df=pd.read_csv(\"/content/sample_data/Amazon_Unlocked_Mobile.csv\")\n",
        "df.columns=['ProductName', 'BrandName', 'Price', 'Rating', 'Reviews','ReviewVotes']\n",
        "#function\n",
        "def categorizer(x):\n",
        "    if x < 3:\n",
        "        return 'negative'\n",
        "    return 'positive'\n",
        "#change reviews with score less than 3 to be negative\n",
        "a = df.Rating\n",
        "df['Ratings2'] = a.map(categorizer)\n",
        "df=df.sort_values('ProductName', axis=0, ascending=True, inplace=False, kind='quicksort', na_position='last')\n",
        "final=df.drop_duplicates(subset={'ProductName', 'BrandName', 'Price', 'Rating', 'Reviews','ReviewVotes'},\n",
        "                                  keep='first', inplace=False)\n",
        "stop=set(stopwords.words('english'))\n",
        "def cleanhtml(sentence):\n",
        "    cleanr = re.compile('<.*?>')\n",
        "    cleantext = re.sub(cleanr, ' ', sentence)\n",
        "    return cleantext\n",
        "def cleanpunc(sentence):\n",
        "    cleaned = re.sub(r'[?|!|\\'|\"|#]',r'',sentence)\n",
        "    cleaned = re.sub(r'[.|,|)|(|\\|/]',r' ',cleaned)\n",
        "    return  cleaned\n",
        "\n",
        "df=df.dropna(0, any, 1,inplace=False)\n",
        "df = df.sample(n=100000)\n",
        "\n",
        "# Lets do some text cleanup\n",
        "R = re.compile('[/(){}\\[\\]\\|@,;]')\n",
        "B = re.compile('[^0-9a-z #+_]')\n",
        "N = re.compile('[\\d+]')\n",
        "\n",
        "def clean_text(text):\n",
        "    text=str(text)\n",
        "    text = text.lower() \n",
        "    text = R.sub(' ', text)\n",
        "    text = text.replace('x', '') \n",
        "    text = N.sub('', text)\n",
        "    text = B.sub('', text)\n",
        "    text = ' '.join(word for word in text.split() if word not in stop)\n",
        "    text = ' '.join(word for word in text.split() if (len(word) >= 2 and len(word) <= 21))\n",
        "    text = ' '.join([stemmer.stem(word) for word in text.split()])\n",
        "    return text\n",
        "\n",
        "df['Reviews'] = df['Reviews'].apply(clean_text)"
      ],
      "metadata": {
        "colab": {
          "base_uri": "https://localhost:8080/"
        },
        "id": "iiSV8mB-sw0O",
        "outputId": "dd6ebee0-c70f-46be-d233-d503bd04e355"
      },
      "execution_count": 15,
      "outputs": [
        {
          "output_type": "stream",
          "name": "stdout",
          "text": [
            "[nltk_data] Downloading package stopwords to /root/nltk_data...\n",
            "[nltk_data]   Package stopwords is already up-to-date!\n",
            "[nltk_data] Downloading package punkt to /root/nltk_data...\n",
            "[nltk_data]   Unzipping tokenizers/punkt.zip.\n"
          ]
        },
        {
          "output_type": "stream",
          "name": "stderr",
          "text": [
            "/usr/local/lib/python3.7/dist-packages/ipykernel_launcher.py:36: FutureWarning: In a future version of pandas all arguments of DataFrame.dropna will be keyword-only\n"
          ]
        }
      ]
    },
    {
      "cell_type": "code",
      "source": [
        "#K-Means clustering\n",
        "vectorizer = TfidfVectorizer(sublinear_tf= True, min_df=10, norm='l2', ngram_range=(1, 2), stop_words='english')\n",
        "X_train_vc = vectorizer.fit_transform(df[\"Reviews\"].values)\n",
        "vr = TfidfVectorizer()\n",
        "X_train_vc = vr.fit_transform(df[\"Reviews\"].values)\n",
        "from sklearn.cluster import KMeans\n",
        "model_tf = KMeans(n_clusters = 10,random_state=99)\n",
        "model_tf.fit(X_train_vc)\n",
        "\n",
        "df['newlabels'] = model_tf.labels_\n",
        "df.groupby(['newlabels'])['Reviews'].count()\n",
        "\n",
        "plt.bar([x for x in range(10)], df.groupby(['newlabels'])['Reviews'].count(), alpha = 0.4)\n",
        "plt.title('KMeans cluster points')\n",
        "plt.xlabel(\"Cluster number\")\n",
        "plt.ylabel(\"Number of points\")\n",
        "plt.show()"
      ],
      "metadata": {
        "colab": {
          "base_uri": "https://localhost:8080/",
          "height": 301
        },
        "id": "QREsZPn2tsix",
        "outputId": "163b2e57-a85e-451b-f204-bd45a8e19536"
      },
      "execution_count": 16,
      "outputs": [
        {
          "output_type": "display_data",
          "data": {
            "text/plain": [
              "<Figure size 432x288 with 1 Axes>"
            ],
            "image/png": "[encoded data removed]"
          },
          "metadata": {}
        }
      ]
    },
    {
      "cell_type": "code",
      "source": [
        "#DBScan Clustering\n",
        "import gensim\n",
        "\n",
        "i=0\n",
        "list_of_sent=[]\n",
        "for line in df[\"Reviews\"].values:\n",
        "    list_of_sent.append(line.split())\n",
        "    \n",
        "w2v_model=gensim.models.Word2Vec(list_of_sent, workers=4)\n",
        "\n",
        "sent_vectors = [];\n",
        "for sent in list_of_sent:\n",
        "    sent_vec = np.zeros(100)\n",
        "    cnt_words =0; \n",
        "    for word in sent:\n",
        "        try:\n",
        "            vec = w2v_model.wv[word]\n",
        "            sent_vec += vec\n",
        "            cnt_words += 1\n",
        "        except:\n",
        "            pass\n",
        "    sent_vec /= cnt_words\n",
        "    sent_vectors.append(sent_vec)\n",
        "sent_vectors = np.array(sent_vectors)\n",
        "sent_vectors = np.nan_to_num(sent_vectors)\n",
        "sent_vectors.shape"
      ],
      "metadata": {
        "colab": {
          "base_uri": "https://localhost:8080/"
        },
        "id": "wwv4KKjTt2bV",
        "outputId": "cacaf7f5-e436-4f6b-dda8-52de876b6a23"
      },
      "execution_count": 17,
      "outputs": [
        {
          "output_type": "stream",
          "name": "stderr",
          "text": [
            "/usr/local/lib/python3.7/dist-packages/ipykernel_launcher.py:22: RuntimeWarning: invalid value encountered in true_divide\n"
          ]
        },
        {
          "output_type": "execute_result",
          "data": {
            "text/plain": [
              "(100000, 100)"
            ]
          },
          "metadata": {},
          "execution_count": 17
        }
      ]
    },
    {
      "cell_type": "code",
      "source": [
        "from sklearn.cluster import DBSCAN\n",
        "minPts = 100\n",
        "\n",
        "def lower_bound(nums, target): \n",
        "    l, r = 0, len(nums) - 1\n",
        "    while l <= r: # Binary searching.\n",
        "        mid = int(l + (r - l) / 2)\n",
        "        if nums[mid] >= target:\n",
        "            r = mid - 1\n",
        "        else:\n",
        "            l = mid + 1\n",
        "    return l\n",
        "\n",
        "def compute200thnearestneighbour(x, data):\n",
        "    dists = []\n",
        "    for val in data:\n",
        "        dist = np.sum((x - val) **2 ) \n",
        "        if(len(dists) == 200 and dists[199] > dist): \n",
        "            l = int(lower_bound(dists, dist))\n",
        "            if l < 200 and l >= 0 and dists[l] > dist:\n",
        "                dists[l] = dist\n",
        "        else:\n",
        "            dists.append(dist)\n",
        "            dists.sort()\n",
        "    \n",
        "    return dists[199] \n",
        "\n",
        "twohundrethneigh = []\n",
        "for val in sent_vectors[:1500]:\n",
        "    twohundrethneigh.append( compute200thnearestneighbour(val, sent_vectors[:1500]) )\n",
        "twohundrethneigh.sort()\n",
        "\n",
        "plt.figure(figsize=(14,4))\n",
        "plt.title(\"Elbow Method for Finding the right Eps hyperparameter\")\n",
        "plt.plot([x for x in range(len(twohundrethneigh))], twohundrethneigh)\n",
        "plt.xlabel(\"Number of points\")\n",
        "plt.ylabel(\"Distance of 200th Nearest Neighbour\")\n",
        "plt.show()"
      ],
      "metadata": {
        "colab": {
          "base_uri": "https://localhost:8080/",
          "height": 301
        },
        "id": "e6VLq2MnuE86",
        "outputId": "669ca093-a0dd-4e6d-aa5c-14f12bf189c7"
      },
      "execution_count": 18,
      "outputs": [
        {
          "output_type": "display_data",
          "data": {
            "text/plain": [
              "<Figure size 1008x288 with 1 Axes>"
            ],
            "image/png": "[encoded data removed]"
          },
          "metadata": {}
        }
      ]
    },
    {
      "cell_type": "code",
      "source": [
        "#Hierarchical clustering\n",
        "import scipy.cluster.hierarchy as shc\n",
        "%matplotlib inline\n",
        "#reduce data dimensions\n",
        "sentvectors = sent_vectors[1:10000,1:100]\n",
        "plt.figure(figsize=(10, 7))\n",
        "plt.title(\"Clustering\")\n",
        "dend = shc.dendrogram(shc.linkage(sentvectors, method='ward'))\n",
        "plt.axhline(y=90)\n",
        "\n",
        "from sklearn.cluster import AgglomerativeClustering\n",
        "cluster = AgglomerativeClustering(n_clusters=5, affinity='euclidean', linkage='ward')  #took n=5 from dendrogram curve \n",
        "Agg=cluster.fit_predict(sentvectors)"
      ],
      "metadata": {
        "colab": {
          "base_uri": "https://localhost:8080/",
          "height": 450
        },
        "id": "_wu88_z-ucF1",
        "outputId": "60f937ea-1bef-4486-beae-9e9d53e18a31"
      },
      "execution_count": 19,
      "outputs": [
        {
          "output_type": "display_data",
          "data": {
            "text/plain": [
              "<Figure size 720x504 with 1 Axes>"
            ],
            "image/png": "[encoded data removed]"
          },
          "metadata": {
            "needs_background": "light"
          }
        }
      ]
    },
    {
      "cell_type": "code",
      "execution_count": null,
      "metadata": {
        "id": "htz_I5FWfh2u"
      },
      "outputs": [],
      "source": [
        "#You can write you answer here. (No code needed)\n",
        "\n",
        "\n"
      ]
    },
    {
      "cell_type": "markdown",
      "source": [
        "K-Means clustering is a partitional clustering technique in which each cluster has a central point and each point is assigned to the cluster with the closest centroid. The number K denotes the number of clusters. Euclidean distance, cosine similarity, correlation, and other metrics are used to determine how close two people are. K-Means has some drawbacks, such as clusters of varying sizes, densities, and forms.\n",
        "\n",
        "Agglomerative and Divisive hierarchical clustering are the two types of hierarchical clustering. It generates a hierarchical tree with nested clusters that resembles a dendrogram. Sensitivity to noise and outliers, computational complexity in time and space, and the inability to undo the combination of the two clusters are just a few of the drawbacks.\n",
        "\n",
        " density-based clustering approach called DBScan clustering. A boundary point has fewer points than a core point. Any point that isn't a core or boundary point is referred to as a noise point.\n",
        "\n",
        "The Hierarchical model, which has the highest accuracy, is the most accurate, followed by Kmeans and DBSCAN. The most effective model is heirarchical clustering."
      ],
      "metadata": {
        "id": "lIH1CmBfvJwM"
      }
    }
  ],
  "metadata": {
    "colab": {
      "name": "In_class_exercise_05-2.ipynb",
      "provenance": [],
      "include_colab_link": true
    },
    "kernelspec": {
      "display_name": "Python 3",
      "language": "python",
      "name": "python3"
    },
    "language_info": {
      "codemirror_mode": {
        "name": "ipython",
        "version": 3
      },
      "file_extension": ".py",
      "mimetype": "text/x-python",
      "name": "python",
      "nbconvert_exporter": "python",
      "pygments_lexer": "ipython3",
      "version": "3.8.5"
    }
  },
  "nbformat": 4,
  "nbformat_minor": 0
}